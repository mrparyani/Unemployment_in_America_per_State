{
 "cells": [
  {
   "cell_type": "markdown",
   "metadata": {},
   "source": [
    "# 6.4. Machine Learning Part 1 - Unemployment in America"
   ]
  },
  {
   "cell_type": "markdown",
   "metadata": {},
   "source": [
    "### This script contains the following:\n",
    "\n",
    "#### 1. Importing libraries and data\n",
    "#### 2. Data cleaning\n",
    "#### 3. Data prep for regression analysis\n",
    "#### 4. Regression analysis\n",
    "#### Bonus: performance improvement after removing outliers"
   ]
  },
  {
   "cell_type": "markdown",
   "metadata": {},
   "source": [
    "### 1. Importing libraries and data"
   ]
  },
  {
   "cell_type": "code",
   "execution_count": 3,
   "metadata": {},
   "outputs": [],
   "source": [
    "import pandas as pd\n",
    "import numpy as np\n",
    "import seaborn as sns\n",
    "import matplotlib\n",
    "import matplotlib.pyplot as plt\n",
    "import os\n",
    "import sklearn\n",
    "from sklearn.model_selection import train_test_split \n",
    "from sklearn.linear_model import LinearRegression\n",
    "from sklearn.metrics import mean_squared_error, r2_score"
   ]
  },
  {
   "cell_type": "code",
   "execution_count": 4,
   "metadata": {},
   "outputs": [],
   "source": [
    "# This option ensures that the graphs you create are displayed within the notebook without the need to \"call\" them specifically.\n",
    "\n",
    "%matplotlib inline"
   ]
  },
  {
   "cell_type": "code",
   "execution_count": 5,
   "metadata": {},
   "outputs": [],
   "source": [
    "path = r'C:\\Users\\eminc\\OneDrive\\A  - Career Foundry\\Data Immersion\\A6 Advanced Analytics & Dashboard Design\\6.0. - Project'"
   ]
  },
  {
   "cell_type": "code",
   "execution_count": 6,
   "metadata": {},
   "outputs": [],
   "source": [
    "df = pd.read_csv(os.path.join(path, '6 - 02 Data', 'Prepared Data', 'Unemployment in America.csv'))"
   ]
  },
  {
   "cell_type": "markdown",
   "metadata": {},
   "source": [
    "### Directions 1 and 2: Libraries and necessary modules imported"
   ]
  },
  {
   "cell_type": "markdown",
   "metadata": {},
   "source": [
    "### 2. Data cleaning"
   ]
  },
  {
   "cell_type": "code",
   "execution_count": 7,
   "metadata": {
    "scrolled": true
   },
   "outputs": [
    {
     "data": {
      "text/plain": [
       "Index(['FIPS Code', 'State/Area', 'Year', 'Month', 'Month/Year', 'Year/Month',\n",
       "       'Population', 'Labor Force', 'LF % of Population', 'Employment',\n",
       "       '% of Employed', 'Unemployment', '% of Unemployed',\n",
       "       'Unemployment Categories', 'Decades'],\n",
       "      dtype='object')"
      ]
     },
     "execution_count": 7,
     "metadata": {},
     "output_type": "execute_result"
    }
   ],
   "source": [
    "df.columns"
   ]
  },
  {
   "cell_type": "code",
   "execution_count": 8,
   "metadata": {
    "scrolled": true
   },
   "outputs": [
    {
     "data": {
      "text/html": [
       "<div>\n",
       "<style scoped>\n",
       "    .dataframe tbody tr th:only-of-type {\n",
       "        vertical-align: middle;\n",
       "    }\n",
       "\n",
       "    .dataframe tbody tr th {\n",
       "        vertical-align: top;\n",
       "    }\n",
       "\n",
       "    .dataframe thead th {\n",
       "        text-align: right;\n",
       "    }\n",
       "</style>\n",
       "<table border=\"1\" class=\"dataframe\">\n",
       "  <thead>\n",
       "    <tr style=\"text-align: right;\">\n",
       "      <th></th>\n",
       "      <th>FIPS Code</th>\n",
       "      <th>State/Area</th>\n",
       "      <th>Year</th>\n",
       "      <th>Month</th>\n",
       "      <th>Month/Year</th>\n",
       "      <th>Year/Month</th>\n",
       "      <th>Population</th>\n",
       "      <th>Labor Force</th>\n",
       "      <th>LF % of Population</th>\n",
       "      <th>Employment</th>\n",
       "      <th>% of Employed</th>\n",
       "      <th>Unemployment</th>\n",
       "      <th>% of Unemployed</th>\n",
       "      <th>Unemployment Categories</th>\n",
       "      <th>Decades</th>\n",
       "    </tr>\n",
       "  </thead>\n",
       "  <tbody>\n",
       "    <tr>\n",
       "      <th>0</th>\n",
       "      <td>1</td>\n",
       "      <td>Alabama</td>\n",
       "      <td>1976</td>\n",
       "      <td>1</td>\n",
       "      <td>1/1976</td>\n",
       "      <td>1976/1</td>\n",
       "      <td>2605000</td>\n",
       "      <td>1484555</td>\n",
       "      <td>57.0</td>\n",
       "      <td>1386023</td>\n",
       "      <td>53.2</td>\n",
       "      <td>98532</td>\n",
       "      <td>6.6</td>\n",
       "      <td>Mid Unemployment</td>\n",
       "      <td>1970s</td>\n",
       "    </tr>\n",
       "    <tr>\n",
       "      <th>1</th>\n",
       "      <td>2</td>\n",
       "      <td>Alaska</td>\n",
       "      <td>1976</td>\n",
       "      <td>1</td>\n",
       "      <td>1/1976</td>\n",
       "      <td>1976/1</td>\n",
       "      <td>232000</td>\n",
       "      <td>160183</td>\n",
       "      <td>69.0</td>\n",
       "      <td>148820</td>\n",
       "      <td>64.1</td>\n",
       "      <td>11363</td>\n",
       "      <td>7.1</td>\n",
       "      <td>Mid Unemployment</td>\n",
       "      <td>1970s</td>\n",
       "    </tr>\n",
       "    <tr>\n",
       "      <th>2</th>\n",
       "      <td>4</td>\n",
       "      <td>Arizona</td>\n",
       "      <td>1976</td>\n",
       "      <td>1</td>\n",
       "      <td>1/1976</td>\n",
       "      <td>1976/1</td>\n",
       "      <td>1621000</td>\n",
       "      <td>964120</td>\n",
       "      <td>59.5</td>\n",
       "      <td>865871</td>\n",
       "      <td>53.4</td>\n",
       "      <td>98249</td>\n",
       "      <td>10.2</td>\n",
       "      <td>High Unemployment</td>\n",
       "      <td>1970s</td>\n",
       "    </tr>\n",
       "    <tr>\n",
       "      <th>3</th>\n",
       "      <td>5</td>\n",
       "      <td>Arkansas</td>\n",
       "      <td>1976</td>\n",
       "      <td>1</td>\n",
       "      <td>1/1976</td>\n",
       "      <td>1976/1</td>\n",
       "      <td>1536000</td>\n",
       "      <td>889044</td>\n",
       "      <td>57.9</td>\n",
       "      <td>824395</td>\n",
       "      <td>53.7</td>\n",
       "      <td>64649</td>\n",
       "      <td>7.3</td>\n",
       "      <td>Mid Unemployment</td>\n",
       "      <td>1970s</td>\n",
       "    </tr>\n",
       "    <tr>\n",
       "      <th>4</th>\n",
       "      <td>6</td>\n",
       "      <td>California</td>\n",
       "      <td>1976</td>\n",
       "      <td>1</td>\n",
       "      <td>1/1976</td>\n",
       "      <td>1976/1</td>\n",
       "      <td>15621000</td>\n",
       "      <td>9774280</td>\n",
       "      <td>62.6</td>\n",
       "      <td>8875685</td>\n",
       "      <td>56.8</td>\n",
       "      <td>898595</td>\n",
       "      <td>9.2</td>\n",
       "      <td>High Unemployment</td>\n",
       "      <td>1970s</td>\n",
       "    </tr>\n",
       "    <tr>\n",
       "      <th>5</th>\n",
       "      <td>37</td>\n",
       "      <td>Los Angeles County</td>\n",
       "      <td>1976</td>\n",
       "      <td>1</td>\n",
       "      <td>1/1976</td>\n",
       "      <td>1976/1</td>\n",
       "      <td>5273000</td>\n",
       "      <td>3381856</td>\n",
       "      <td>64.1</td>\n",
       "      <td>3081806</td>\n",
       "      <td>58.4</td>\n",
       "      <td>300050</td>\n",
       "      <td>8.9</td>\n",
       "      <td>High Unemployment</td>\n",
       "      <td>1970s</td>\n",
       "    </tr>\n",
       "    <tr>\n",
       "      <th>6</th>\n",
       "      <td>8</td>\n",
       "      <td>Colorado</td>\n",
       "      <td>1976</td>\n",
       "      <td>1</td>\n",
       "      <td>1/1976</td>\n",
       "      <td>1976/1</td>\n",
       "      <td>1832000</td>\n",
       "      <td>1230966</td>\n",
       "      <td>67.2</td>\n",
       "      <td>1160104</td>\n",
       "      <td>63.3</td>\n",
       "      <td>70862</td>\n",
       "      <td>5.8</td>\n",
       "      <td>Mid Unemployment</td>\n",
       "      <td>1970s</td>\n",
       "    </tr>\n",
       "    <tr>\n",
       "      <th>7</th>\n",
       "      <td>9</td>\n",
       "      <td>Connecticut</td>\n",
       "      <td>1976</td>\n",
       "      <td>1</td>\n",
       "      <td>1/1976</td>\n",
       "      <td>1976/1</td>\n",
       "      <td>2248000</td>\n",
       "      <td>1442847</td>\n",
       "      <td>64.2</td>\n",
       "      <td>1301974</td>\n",
       "      <td>57.9</td>\n",
       "      <td>140873</td>\n",
       "      <td>9.8</td>\n",
       "      <td>High Unemployment</td>\n",
       "      <td>1970s</td>\n",
       "    </tr>\n",
       "    <tr>\n",
       "      <th>8</th>\n",
       "      <td>10</td>\n",
       "      <td>Delaware</td>\n",
       "      <td>1976</td>\n",
       "      <td>1</td>\n",
       "      <td>1/1976</td>\n",
       "      <td>1976/1</td>\n",
       "      <td>417000</td>\n",
       "      <td>261418</td>\n",
       "      <td>62.7</td>\n",
       "      <td>240543</td>\n",
       "      <td>57.7</td>\n",
       "      <td>20875</td>\n",
       "      <td>8.0</td>\n",
       "      <td>High Unemployment</td>\n",
       "      <td>1970s</td>\n",
       "    </tr>\n",
       "    <tr>\n",
       "      <th>9</th>\n",
       "      <td>11</td>\n",
       "      <td>District of Columbia</td>\n",
       "      <td>1976</td>\n",
       "      <td>1</td>\n",
       "      <td>1/1976</td>\n",
       "      <td>1976/1</td>\n",
       "      <td>520000</td>\n",
       "      <td>334691</td>\n",
       "      <td>64.4</td>\n",
       "      <td>305677</td>\n",
       "      <td>58.8</td>\n",
       "      <td>29014</td>\n",
       "      <td>8.7</td>\n",
       "      <td>High Unemployment</td>\n",
       "      <td>1970s</td>\n",
       "    </tr>\n",
       "    <tr>\n",
       "      <th>10</th>\n",
       "      <td>12</td>\n",
       "      <td>Florida</td>\n",
       "      <td>1976</td>\n",
       "      <td>1</td>\n",
       "      <td>1/1976</td>\n",
       "      <td>1976/1</td>\n",
       "      <td>6421000</td>\n",
       "      <td>3584876</td>\n",
       "      <td>55.8</td>\n",
       "      <td>3238460</td>\n",
       "      <td>50.4</td>\n",
       "      <td>346416</td>\n",
       "      <td>9.7</td>\n",
       "      <td>High Unemployment</td>\n",
       "      <td>1970s</td>\n",
       "    </tr>\n",
       "    <tr>\n",
       "      <th>11</th>\n",
       "      <td>13</td>\n",
       "      <td>Georgia</td>\n",
       "      <td>1976</td>\n",
       "      <td>1</td>\n",
       "      <td>1/1976</td>\n",
       "      <td>1976/1</td>\n",
       "      <td>3522000</td>\n",
       "      <td>2244770</td>\n",
       "      <td>63.7</td>\n",
       "      <td>2056467</td>\n",
       "      <td>58.4</td>\n",
       "      <td>188303</td>\n",
       "      <td>8.4</td>\n",
       "      <td>High Unemployment</td>\n",
       "      <td>1970s</td>\n",
       "    </tr>\n",
       "    <tr>\n",
       "      <th>12</th>\n",
       "      <td>15</td>\n",
       "      <td>Hawaii</td>\n",
       "      <td>1976</td>\n",
       "      <td>1</td>\n",
       "      <td>1/1976</td>\n",
       "      <td>1976/1</td>\n",
       "      <td>583000</td>\n",
       "      <td>407457</td>\n",
       "      <td>69.9</td>\n",
       "      <td>367586</td>\n",
       "      <td>63.1</td>\n",
       "      <td>39871</td>\n",
       "      <td>9.8</td>\n",
       "      <td>High Unemployment</td>\n",
       "      <td>1970s</td>\n",
       "    </tr>\n",
       "    <tr>\n",
       "      <th>13</th>\n",
       "      <td>16</td>\n",
       "      <td>Idaho</td>\n",
       "      <td>1976</td>\n",
       "      <td>1</td>\n",
       "      <td>1/1976</td>\n",
       "      <td>1976/1</td>\n",
       "      <td>580000</td>\n",
       "      <td>365606</td>\n",
       "      <td>63.0</td>\n",
       "      <td>345182</td>\n",
       "      <td>59.5</td>\n",
       "      <td>20424</td>\n",
       "      <td>5.6</td>\n",
       "      <td>Mid Unemployment</td>\n",
       "      <td>1970s</td>\n",
       "    </tr>\n",
       "    <tr>\n",
       "      <th>14</th>\n",
       "      <td>17</td>\n",
       "      <td>Illinois</td>\n",
       "      <td>1976</td>\n",
       "      <td>1</td>\n",
       "      <td>1/1976</td>\n",
       "      <td>1976/1</td>\n",
       "      <td>8127000</td>\n",
       "      <td>5123609</td>\n",
       "      <td>63.0</td>\n",
       "      <td>4786415</td>\n",
       "      <td>58.9</td>\n",
       "      <td>337194</td>\n",
       "      <td>6.6</td>\n",
       "      <td>Mid Unemployment</td>\n",
       "      <td>1970s</td>\n",
       "    </tr>\n",
       "    <tr>\n",
       "      <th>15</th>\n",
       "      <td>18</td>\n",
       "      <td>Indiana</td>\n",
       "      <td>1976</td>\n",
       "      <td>1</td>\n",
       "      <td>1/1976</td>\n",
       "      <td>1976/1</td>\n",
       "      <td>3789000</td>\n",
       "      <td>2425346</td>\n",
       "      <td>64.0</td>\n",
       "      <td>2265849</td>\n",
       "      <td>59.8</td>\n",
       "      <td>159497</td>\n",
       "      <td>6.6</td>\n",
       "      <td>Mid Unemployment</td>\n",
       "      <td>1970s</td>\n",
       "    </tr>\n",
       "    <tr>\n",
       "      <th>16</th>\n",
       "      <td>19</td>\n",
       "      <td>Iowa</td>\n",
       "      <td>1976</td>\n",
       "      <td>1</td>\n",
       "      <td>1/1976</td>\n",
       "      <td>1976/1</td>\n",
       "      <td>2066000</td>\n",
       "      <td>1329798</td>\n",
       "      <td>64.4</td>\n",
       "      <td>1272281</td>\n",
       "      <td>61.6</td>\n",
       "      <td>57517</td>\n",
       "      <td>4.3</td>\n",
       "      <td>Mid Unemployment</td>\n",
       "      <td>1970s</td>\n",
       "    </tr>\n",
       "    <tr>\n",
       "      <th>17</th>\n",
       "      <td>20</td>\n",
       "      <td>Kansas</td>\n",
       "      <td>1976</td>\n",
       "      <td>1</td>\n",
       "      <td>1/1976</td>\n",
       "      <td>1976/1</td>\n",
       "      <td>1635000</td>\n",
       "      <td>1065059</td>\n",
       "      <td>65.1</td>\n",
       "      <td>1020396</td>\n",
       "      <td>62.4</td>\n",
       "      <td>44663</td>\n",
       "      <td>4.2</td>\n",
       "      <td>Mid Unemployment</td>\n",
       "      <td>1970s</td>\n",
       "    </tr>\n",
       "    <tr>\n",
       "      <th>18</th>\n",
       "      <td>21</td>\n",
       "      <td>Kentucky</td>\n",
       "      <td>1976</td>\n",
       "      <td>1</td>\n",
       "      <td>1/1976</td>\n",
       "      <td>1976/1</td>\n",
       "      <td>2459000</td>\n",
       "      <td>1486550</td>\n",
       "      <td>60.5</td>\n",
       "      <td>1402625</td>\n",
       "      <td>57.0</td>\n",
       "      <td>83925</td>\n",
       "      <td>5.6</td>\n",
       "      <td>Mid Unemployment</td>\n",
       "      <td>1970s</td>\n",
       "    </tr>\n",
       "    <tr>\n",
       "      <th>19</th>\n",
       "      <td>22</td>\n",
       "      <td>Louisiana</td>\n",
       "      <td>1976</td>\n",
       "      <td>1</td>\n",
       "      <td>1/1976</td>\n",
       "      <td>1976/1</td>\n",
       "      <td>2672000</td>\n",
       "      <td>1517348</td>\n",
       "      <td>56.8</td>\n",
       "      <td>1421440</td>\n",
       "      <td>53.2</td>\n",
       "      <td>95908</td>\n",
       "      <td>6.3</td>\n",
       "      <td>Mid Unemployment</td>\n",
       "      <td>1970s</td>\n",
       "    </tr>\n",
       "  </tbody>\n",
       "</table>\n",
       "</div>"
      ],
      "text/plain": [
       "    FIPS Code            State/Area  Year  Month Month/Year Year/Month  \\\n",
       "0           1               Alabama  1976      1     1/1976     1976/1   \n",
       "1           2                Alaska  1976      1     1/1976     1976/1   \n",
       "2           4               Arizona  1976      1     1/1976     1976/1   \n",
       "3           5              Arkansas  1976      1     1/1976     1976/1   \n",
       "4           6            California  1976      1     1/1976     1976/1   \n",
       "5          37    Los Angeles County  1976      1     1/1976     1976/1   \n",
       "6           8              Colorado  1976      1     1/1976     1976/1   \n",
       "7           9           Connecticut  1976      1     1/1976     1976/1   \n",
       "8          10              Delaware  1976      1     1/1976     1976/1   \n",
       "9          11  District of Columbia  1976      1     1/1976     1976/1   \n",
       "10         12               Florida  1976      1     1/1976     1976/1   \n",
       "11         13               Georgia  1976      1     1/1976     1976/1   \n",
       "12         15                Hawaii  1976      1     1/1976     1976/1   \n",
       "13         16                 Idaho  1976      1     1/1976     1976/1   \n",
       "14         17              Illinois  1976      1     1/1976     1976/1   \n",
       "15         18               Indiana  1976      1     1/1976     1976/1   \n",
       "16         19                  Iowa  1976      1     1/1976     1976/1   \n",
       "17         20                Kansas  1976      1     1/1976     1976/1   \n",
       "18         21              Kentucky  1976      1     1/1976     1976/1   \n",
       "19         22             Louisiana  1976      1     1/1976     1976/1   \n",
       "\n",
       "    Population  Labor Force  LF % of Population  Employment  % of Employed  \\\n",
       "0      2605000      1484555                57.0     1386023           53.2   \n",
       "1       232000       160183                69.0      148820           64.1   \n",
       "2      1621000       964120                59.5      865871           53.4   \n",
       "3      1536000       889044                57.9      824395           53.7   \n",
       "4     15621000      9774280                62.6     8875685           56.8   \n",
       "5      5273000      3381856                64.1     3081806           58.4   \n",
       "6      1832000      1230966                67.2     1160104           63.3   \n",
       "7      2248000      1442847                64.2     1301974           57.9   \n",
       "8       417000       261418                62.7      240543           57.7   \n",
       "9       520000       334691                64.4      305677           58.8   \n",
       "10     6421000      3584876                55.8     3238460           50.4   \n",
       "11     3522000      2244770                63.7     2056467           58.4   \n",
       "12      583000       407457                69.9      367586           63.1   \n",
       "13      580000       365606                63.0      345182           59.5   \n",
       "14     8127000      5123609                63.0     4786415           58.9   \n",
       "15     3789000      2425346                64.0     2265849           59.8   \n",
       "16     2066000      1329798                64.4     1272281           61.6   \n",
       "17     1635000      1065059                65.1     1020396           62.4   \n",
       "18     2459000      1486550                60.5     1402625           57.0   \n",
       "19     2672000      1517348                56.8     1421440           53.2   \n",
       "\n",
       "    Unemployment  % of Unemployed Unemployment Categories Decades  \n",
       "0          98532              6.6        Mid Unemployment   1970s  \n",
       "1          11363              7.1        Mid Unemployment   1970s  \n",
       "2          98249             10.2       High Unemployment   1970s  \n",
       "3          64649              7.3        Mid Unemployment   1970s  \n",
       "4         898595              9.2       High Unemployment   1970s  \n",
       "5         300050              8.9       High Unemployment   1970s  \n",
       "6          70862              5.8        Mid Unemployment   1970s  \n",
       "7         140873              9.8       High Unemployment   1970s  \n",
       "8          20875              8.0       High Unemployment   1970s  \n",
       "9          29014              8.7       High Unemployment   1970s  \n",
       "10        346416              9.7       High Unemployment   1970s  \n",
       "11        188303              8.4       High Unemployment   1970s  \n",
       "12         39871              9.8       High Unemployment   1970s  \n",
       "13         20424              5.6        Mid Unemployment   1970s  \n",
       "14        337194              6.6        Mid Unemployment   1970s  \n",
       "15        159497              6.6        Mid Unemployment   1970s  \n",
       "16         57517              4.3        Mid Unemployment   1970s  \n",
       "17         44663              4.2        Mid Unemployment   1970s  \n",
       "18         83925              5.6        Mid Unemployment   1970s  \n",
       "19         95908              6.3        Mid Unemployment   1970s  "
      ]
     },
     "execution_count": 8,
     "metadata": {},
     "output_type": "execute_result"
    }
   ],
   "source": [
    "df.head(20)"
   ]
  },
  {
   "cell_type": "code",
   "execution_count": 9,
   "metadata": {
    "scrolled": true
   },
   "outputs": [
    {
     "data": {
      "text/plain": [
       "(29892, 15)"
      ]
     },
     "execution_count": 9,
     "metadata": {},
     "output_type": "execute_result"
    }
   ],
   "source": [
    "df.shape"
   ]
  },
  {
   "cell_type": "code",
   "execution_count": 10,
   "metadata": {},
   "outputs": [],
   "source": [
    "# Rename the columns in the same way as in Exercise 6.2.\n",
    "\n",
    "# Columns already renamed in this latest version of this data"
   ]
  },
  {
   "cell_type": "code",
   "execution_count": 11,
   "metadata": {},
   "outputs": [
    {
     "data": {
      "text/html": [
       "<div>\n",
       "<style scoped>\n",
       "    .dataframe tbody tr th:only-of-type {\n",
       "        vertical-align: middle;\n",
       "    }\n",
       "\n",
       "    .dataframe tbody tr th {\n",
       "        vertical-align: top;\n",
       "    }\n",
       "\n",
       "    .dataframe thead th {\n",
       "        text-align: right;\n",
       "    }\n",
       "</style>\n",
       "<table border=\"1\" class=\"dataframe\">\n",
       "  <thead>\n",
       "    <tr style=\"text-align: right;\">\n",
       "      <th></th>\n",
       "      <th>FIPS Code</th>\n",
       "      <th>Year</th>\n",
       "      <th>Month</th>\n",
       "      <th>Population</th>\n",
       "      <th>Labor Force</th>\n",
       "      <th>LF % of Population</th>\n",
       "      <th>Employment</th>\n",
       "      <th>% of Employed</th>\n",
       "      <th>Unemployment</th>\n",
       "      <th>% of Unemployed</th>\n",
       "    </tr>\n",
       "  </thead>\n",
       "  <tbody>\n",
       "    <tr>\n",
       "      <th>count</th>\n",
       "      <td>29892.000000</td>\n",
       "      <td>29892.000000</td>\n",
       "      <td>29892.00000</td>\n",
       "      <td>2.989200e+04</td>\n",
       "      <td>2.989200e+04</td>\n",
       "      <td>29892.000000</td>\n",
       "      <td>2.989200e+04</td>\n",
       "      <td>29892.000000</td>\n",
       "      <td>2.989200e+04</td>\n",
       "      <td>29892.000000</td>\n",
       "    </tr>\n",
       "    <tr>\n",
       "      <th>mean</th>\n",
       "      <td>990.830189</td>\n",
       "      <td>1999.000000</td>\n",
       "      <td>6.50000</td>\n",
       "      <td>4.235528e+06</td>\n",
       "      <td>2.734826e+06</td>\n",
       "      <td>65.516202</td>\n",
       "      <td>2.565279e+06</td>\n",
       "      <td>61.670417</td>\n",
       "      <td>1.695473e+05</td>\n",
       "      <td>5.920788</td>\n",
       "    </tr>\n",
       "    <tr>\n",
       "      <th>std</th>\n",
       "      <td>6935.157218</td>\n",
       "      <td>13.564887</td>\n",
       "      <td>3.45211</td>\n",
       "      <td>4.603808e+06</td>\n",
       "      <td>2.942369e+06</td>\n",
       "      <td>4.304355</td>\n",
       "      <td>2.748895e+06</td>\n",
       "      <td>4.739074</td>\n",
       "      <td>2.145427e+05</td>\n",
       "      <td>2.207521</td>\n",
       "    </tr>\n",
       "    <tr>\n",
       "      <th>min</th>\n",
       "      <td>1.000000</td>\n",
       "      <td>1976.000000</td>\n",
       "      <td>1.00000</td>\n",
       "      <td>2.320000e+05</td>\n",
       "      <td>1.600220e+05</td>\n",
       "      <td>51.000000</td>\n",
       "      <td>1.487180e+05</td>\n",
       "      <td>41.600000</td>\n",
       "      <td>4.980000e+03</td>\n",
       "      <td>1.900000</td>\n",
       "    </tr>\n",
       "    <tr>\n",
       "      <th>25%</th>\n",
       "      <td>17.000000</td>\n",
       "      <td>1987.000000</td>\n",
       "      <td>3.75000</td>\n",
       "      <td>1.103986e+06</td>\n",
       "      <td>7.318940e+05</td>\n",
       "      <td>62.800000</td>\n",
       "      <td>6.795922e+05</td>\n",
       "      <td>58.600000</td>\n",
       "      <td>3.737100e+04</td>\n",
       "      <td>4.300000</td>\n",
       "    </tr>\n",
       "    <tr>\n",
       "      <th>50%</th>\n",
       "      <td>30.000000</td>\n",
       "      <td>1999.000000</td>\n",
       "      <td>6.50000</td>\n",
       "      <td>2.934918e+06</td>\n",
       "      <td>1.878042e+06</td>\n",
       "      <td>65.900000</td>\n",
       "      <td>1.750450e+06</td>\n",
       "      <td>61.800000</td>\n",
       "      <td>1.039425e+05</td>\n",
       "      <td>5.500000</td>\n",
       "    </tr>\n",
       "    <tr>\n",
       "      <th>75%</th>\n",
       "      <td>42.000000</td>\n",
       "      <td>2011.000000</td>\n",
       "      <td>9.25000</td>\n",
       "      <td>5.390502e+06</td>\n",
       "      <td>3.417254e+06</td>\n",
       "      <td>68.500000</td>\n",
       "      <td>3.230634e+06</td>\n",
       "      <td>65.100000</td>\n",
       "      <td>2.102450e+05</td>\n",
       "      <td>7.100000</td>\n",
       "    </tr>\n",
       "    <tr>\n",
       "      <th>max</th>\n",
       "      <td>51000.000000</td>\n",
       "      <td>2022.000000</td>\n",
       "      <td>12.00000</td>\n",
       "      <td>3.123644e+07</td>\n",
       "      <td>1.960070e+07</td>\n",
       "      <td>75.700000</td>\n",
       "      <td>1.875432e+07</td>\n",
       "      <td>73.100000</td>\n",
       "      <td>3.018611e+06</td>\n",
       "      <td>30.600000</td>\n",
       "    </tr>\n",
       "  </tbody>\n",
       "</table>\n",
       "</div>"
      ],
      "text/plain": [
       "          FIPS Code          Year        Month    Population   Labor Force  \\\n",
       "count  29892.000000  29892.000000  29892.00000  2.989200e+04  2.989200e+04   \n",
       "mean     990.830189   1999.000000      6.50000  4.235528e+06  2.734826e+06   \n",
       "std     6935.157218     13.564887      3.45211  4.603808e+06  2.942369e+06   \n",
       "min        1.000000   1976.000000      1.00000  2.320000e+05  1.600220e+05   \n",
       "25%       17.000000   1987.000000      3.75000  1.103986e+06  7.318940e+05   \n",
       "50%       30.000000   1999.000000      6.50000  2.934918e+06  1.878042e+06   \n",
       "75%       42.000000   2011.000000      9.25000  5.390502e+06  3.417254e+06   \n",
       "max    51000.000000   2022.000000     12.00000  3.123644e+07  1.960070e+07   \n",
       "\n",
       "       LF % of Population    Employment  % of Employed  Unemployment  \\\n",
       "count        29892.000000  2.989200e+04   29892.000000  2.989200e+04   \n",
       "mean            65.516202  2.565279e+06      61.670417  1.695473e+05   \n",
       "std              4.304355  2.748895e+06       4.739074  2.145427e+05   \n",
       "min             51.000000  1.487180e+05      41.600000  4.980000e+03   \n",
       "25%             62.800000  6.795922e+05      58.600000  3.737100e+04   \n",
       "50%             65.900000  1.750450e+06      61.800000  1.039425e+05   \n",
       "75%             68.500000  3.230634e+06      65.100000  2.102450e+05   \n",
       "max             75.700000  1.875432e+07      73.100000  3.018611e+06   \n",
       "\n",
       "       % of Unemployed  \n",
       "count     29892.000000  \n",
       "mean          5.920788  \n",
       "std           2.207521  \n",
       "min           1.900000  \n",
       "25%           4.300000  \n",
       "50%           5.500000  \n",
       "75%           7.100000  \n",
       "max          30.600000  "
      ]
     },
     "execution_count": 11,
     "metadata": {},
     "output_type": "execute_result"
    }
   ],
   "source": [
    "df.describe()"
   ]
  },
  {
   "cell_type": "markdown",
   "metadata": {},
   "source": [
    "##### Missing values"
   ]
  },
  {
   "cell_type": "code",
   "execution_count": 12,
   "metadata": {},
   "outputs": [
    {
     "data": {
      "text/plain": [
       "FIPS Code                  0\n",
       "State/Area                 0\n",
       "Year                       0\n",
       "Month                      0\n",
       "Month/Year                 0\n",
       "Year/Month                 0\n",
       "Population                 0\n",
       "Labor Force                0\n",
       "LF % of Population         0\n",
       "Employment                 0\n",
       "% of Employed              0\n",
       "Unemployment               0\n",
       "% of Unemployed            0\n",
       "Unemployment Categories    0\n",
       "Decades                    0\n",
       "dtype: int64"
      ]
     },
     "execution_count": 12,
     "metadata": {},
     "output_type": "execute_result"
    }
   ],
   "source": [
    "# Check for missing values\n",
    "\n",
    "df.isnull().sum()\n",
    "\n",
    "# No missing values to handle"
   ]
  },
  {
   "cell_type": "markdown",
   "metadata": {},
   "source": [
    "##### Duplicates check"
   ]
  },
  {
   "cell_type": "code",
   "execution_count": 13,
   "metadata": {},
   "outputs": [],
   "source": [
    "dups = df.duplicated()"
   ]
  },
  {
   "cell_type": "code",
   "execution_count": 14,
   "metadata": {},
   "outputs": [
    {
     "data": {
      "text/plain": [
       "(29892,)"
      ]
     },
     "execution_count": 14,
     "metadata": {},
     "output_type": "execute_result"
    }
   ],
   "source": [
    "dups.shape # No dups"
   ]
  },
  {
   "cell_type": "markdown",
   "metadata": {},
   "source": [
    "##### Extreme values checks"
   ]
  },
  {
   "cell_type": "code",
   "execution_count": 15,
   "metadata": {
    "scrolled": true
   },
   "outputs": [
    {
     "name": "stderr",
     "output_type": "stream",
     "text": [
      "C:\\Users\\eminc\\anaconda3\\lib\\site-packages\\seaborn\\distributions.py:2619: FutureWarning: `distplot` is a deprecated function and will be removed in a future version. Please adapt your code to use either `displot` (a figure-level function with similar flexibility) or `histplot` (an axes-level function for histograms).\n",
      "  warnings.warn(msg, FutureWarning)\n"
     ]
    },
    {
     "data": {
      "text/plain": [
       "<AxesSubplot:xlabel='% of Unemployed', ylabel='Density'>"
      ]
     },
     "execution_count": 15,
     "metadata": {},
     "output_type": "execute_result"
    },
    {
     "data": {
      "image/png": "[encoded data removed]",
      "text/plain": [
       "<Figure size 640x480 with 1 Axes>"
      ]
     },
     "metadata": {},
     "output_type": "display_data"
    }
   ],
   "source": [
    "sns.distplot(df['% of Unemployed'], bins=25) # Shows extreme values\n",
    "\n",
    "# Some of the outliers in the high values may need to be removed, but let's try without doing so first.\n",
    "\n",
    "# In this case what seems to be seen as outliers reflect real figures, because in some states unemployment rate was\n",
    "# high in certain months. \n",
    "\n"
   ]
  },
  {
   "cell_type": "code",
   "execution_count": 16,
   "metadata": {},
   "outputs": [
    {
     "data": {
      "text/plain": [
       "5.920788170748002"
      ]
     },
     "execution_count": 16,
     "metadata": {},
     "output_type": "execute_result"
    }
   ],
   "source": [
    "df['% of Unemployed'].mean() # Check the mean"
   ]
  },
  {
   "cell_type": "code",
   "execution_count": 17,
   "metadata": {},
   "outputs": [
    {
     "data": {
      "text/plain": [
       "5.5"
      ]
     },
     "execution_count": 17,
     "metadata": {},
     "output_type": "execute_result"
    }
   ],
   "source": [
    "df['% of Unemployed'].median() # Check the median"
   ]
  },
  {
   "cell_type": "code",
   "execution_count": 18,
   "metadata": {},
   "outputs": [
    {
     "data": {
      "text/plain": [
       "30.6"
      ]
     },
     "execution_count": 18,
     "metadata": {},
     "output_type": "execute_result"
    }
   ],
   "source": [
    "df['% of Unemployed'].max() # Check the max"
   ]
  },
  {
   "cell_type": "markdown",
   "metadata": {},
   "source": [
    "### Direction 3: This dataset is already cleaned and the outliers of this selected variable reflect reality due to the fact that high unemployment rates appeared in some states in some months."
   ]
  },
  {
   "cell_type": "markdown",
   "metadata": {},
   "source": [
    "### 3. Data prep for regression analysis "
   ]
  },
  {
   "cell_type": "code",
   "execution_count": 19,
   "metadata": {
    "scrolled": true
   },
   "outputs": [
    {
     "data": {
      "image/png": "[encoded data removed]",
      "text/plain": [
       "<Figure size 640x480 with 1 Axes>"
      ]
     },
     "metadata": {},
     "output_type": "display_data"
    }
   ],
   "source": [
    "# Create a scatterplot using matplotlib for another look at how the chosen variables plot against each other.\n",
    "\n",
    "df.plot(x = 'Labor Force', y='% of Unemployed',style='o') # The style option creates a scatterplot; without it, we only have lines.\n",
    "plt.title('Labor Force vs % of Unemployed')  \n",
    "plt.xlabel('Labor Force')  \n",
    "plt.ylabel('% of Unemployed')  \n",
    "plt.show()"
   ]
  },
  {
   "cell_type": "markdown",
   "metadata": {},
   "source": [
    "### Direction 4: Like to test the relationship between Labor Force and % of Unemployed"
   ]
  },
  {
   "cell_type": "markdown",
   "metadata": {},
   "source": [
    "### Direction 5:Hypothesis: The higher the Labor Force the lower the % of Unemployed"
   ]
  },
  {
   "cell_type": "code",
   "execution_count": 20,
   "metadata": {},
   "outputs": [],
   "source": [
    "# Reshape the variables into NumPy arrays and put them into separate objects.\n",
    "\n",
    "X = df['Labor Force'].values.reshape(-1,1)\n",
    "y = df['% of Unemployed'].values.reshape(-1,1)"
   ]
  },
  {
   "cell_type": "code",
   "execution_count": 21,
   "metadata": {},
   "outputs": [
    {
     "data": {
      "text/plain": [
       "array([[1484555],\n",
       "       [ 160183],\n",
       "       [ 964120],\n",
       "       ...,\n",
       "       [ 784323],\n",
       "       [3068610],\n",
       "       [ 293595]], dtype=int64)"
      ]
     },
     "execution_count": 21,
     "metadata": {},
     "output_type": "execute_result"
    }
   ],
   "source": [
    "X"
   ]
  },
  {
   "cell_type": "code",
   "execution_count": 22,
   "metadata": {},
   "outputs": [
    {
     "data": {
      "text/plain": [
       "array([[ 6.6],\n",
       "       [ 7.1],\n",
       "       [10.2],\n",
       "       ...,\n",
       "       [ 4.1],\n",
       "       [ 3. ],\n",
       "       [ 3.9]])"
      ]
     },
     "execution_count": 22,
     "metadata": {},
     "output_type": "execute_result"
    }
   ],
   "source": [
    "y"
   ]
  },
  {
   "cell_type": "code",
   "execution_count": 23,
   "metadata": {
    "scrolled": true
   },
   "outputs": [],
   "source": [
    "# Split data into a training set and a test set.\n",
    "\n",
    "X_train, X_test, y_train, y_test = train_test_split(X, y, test_size=0.3, random_state=0)"
   ]
  },
  {
   "cell_type": "markdown",
   "metadata": {},
   "source": [
    "### Directions 6 and 7: Variables reshaped and data set splited into training and test set"
   ]
  },
  {
   "cell_type": "markdown",
   "metadata": {},
   "source": [
    "### 4. Regression analysis"
   ]
  },
  {
   "cell_type": "code",
   "execution_count": 24,
   "metadata": {},
   "outputs": [],
   "source": [
    "# Create a regression object.\n",
    "\n",
    "regression = LinearRegression()  # This is the regression object, which will be fit onto the training set."
   ]
  },
  {
   "cell_type": "code",
   "execution_count": 25,
   "metadata": {},
   "outputs": [
    {
     "data": {
      "text/plain": [
       "LinearRegression()"
      ]
     },
     "execution_count": 25,
     "metadata": {},
     "output_type": "execute_result"
    }
   ],
   "source": [
    "# Fit the regression object onto the training set.\n",
    "\n",
    "regression.fit(X_train, y_train)"
   ]
  },
  {
   "cell_type": "code",
   "execution_count": 26,
   "metadata": {},
   "outputs": [],
   "source": [
    "# Predict the values of y using X.\n",
    "\n",
    "y_predicted = regression.predict(X_test)"
   ]
  },
  {
   "cell_type": "code",
   "execution_count": 27,
   "metadata": {},
   "outputs": [
    {
     "data": {
      "image/png": "[encoded data removed]",
      "text/plain": [
       "<Figure size 640x480 with 1 Axes>"
      ]
     },
     "metadata": {},
     "output_type": "display_data"
    }
   ],
   "source": [
    "# Create a plot that shows the regression line from the model on the test set.\n",
    "\n",
    "plot_test = plt\n",
    "plot_test.scatter(X_test, y_test, color='gray', s = 15)\n",
    "plot_test.plot(X_test, y_predicted, color='red', linewidth =3)\n",
    "plot_test.title('Labor Force vs % of Unemployed (Test set)')\n",
    "plot_test.xlabel('Labor Force')\n",
    "plot_test.ylabel('% of Unemployed')\n",
    "plot_test.show()"
   ]
  },
  {
   "cell_type": "markdown",
   "metadata": {},
   "source": [
    "### Direction 9: Plot created that shows the regression line on the test set"
   ]
  },
  {
   "cell_type": "markdown",
   "metadata": {},
   "source": [
    "### Direction 10: The regression line doesn't fit very well to the model, because most of the dots are not close to the line"
   ]
  },
  {
   "cell_type": "code",
   "execution_count": 28,
   "metadata": {},
   "outputs": [],
   "source": [
    "# Create objects that contain the model summary statistics.\n",
    "\n",
    "rmse = mean_squared_error(y_test, y_predicted) # This is the mean squared error\n",
    "r2 = r2_score(y_test, y_predicted) # This is the R2 score. "
   ]
  },
  {
   "cell_type": "code",
   "execution_count": 29,
   "metadata": {},
   "outputs": [
    {
     "name": "stdout",
     "output_type": "stream",
     "text": [
      "Slope: [[8.48808578e-08]]\n",
      "Mean squared error:  4.7101734749297695\n",
      "R2 score:  0.016093787328684495\n"
     ]
    }
   ],
   "source": [
    "# Print the model summary statistics. This is where you evaluate the performance of the model.\n",
    "\n",
    "print('Slope:' ,regression.coef_)\n",
    "print('Mean squared error: ', rmse)\n",
    "print('R2 score: ', r2)"
   ]
  },
  {
   "cell_type": "code",
   "execution_count": 30,
   "metadata": {},
   "outputs": [
    {
     "data": {
      "text/plain": [
       "array([[6.11780238],\n",
       "       [5.81006496],\n",
       "       [5.88794739],\n",
       "       ...,\n",
       "       [5.75831047],\n",
       "       [5.76564876],\n",
       "       [5.87439251]])"
      ]
     },
     "execution_count": 30,
     "metadata": {},
     "output_type": "execute_result"
    }
   ],
   "source": [
    "y_predicted"
   ]
  },
  {
   "cell_type": "code",
   "execution_count": 31,
   "metadata": {
    "scrolled": true
   },
   "outputs": [
    {
     "data": {
      "text/html": [
       "<div>\n",
       "<style scoped>\n",
       "    .dataframe tbody tr th:only-of-type {\n",
       "        vertical-align: middle;\n",
       "    }\n",
       "\n",
       "    .dataframe tbody tr th {\n",
       "        vertical-align: top;\n",
       "    }\n",
       "\n",
       "    .dataframe thead th {\n",
       "        text-align: right;\n",
       "    }\n",
       "</style>\n",
       "<table border=\"1\" class=\"dataframe\">\n",
       "  <thead>\n",
       "    <tr style=\"text-align: right;\">\n",
       "      <th></th>\n",
       "      <th>Actual</th>\n",
       "      <th>Predicted</th>\n",
       "    </tr>\n",
       "  </thead>\n",
       "  <tbody>\n",
       "    <tr>\n",
       "      <th>0</th>\n",
       "      <td>4.1</td>\n",
       "      <td>6.117802</td>\n",
       "    </tr>\n",
       "    <tr>\n",
       "      <th>1</th>\n",
       "      <td>11.2</td>\n",
       "      <td>5.810065</td>\n",
       "    </tr>\n",
       "    <tr>\n",
       "      <th>2</th>\n",
       "      <td>5.4</td>\n",
       "      <td>5.887947</td>\n",
       "    </tr>\n",
       "    <tr>\n",
       "      <th>3</th>\n",
       "      <td>4.3</td>\n",
       "      <td>5.725983</td>\n",
       "    </tr>\n",
       "    <tr>\n",
       "      <th>4</th>\n",
       "      <td>4.3</td>\n",
       "      <td>6.931888</td>\n",
       "    </tr>\n",
       "    <tr>\n",
       "      <th>5</th>\n",
       "      <td>7.2</td>\n",
       "      <td>5.734356</td>\n",
       "    </tr>\n",
       "    <tr>\n",
       "      <th>6</th>\n",
       "      <td>4.0</td>\n",
       "      <td>5.864122</td>\n",
       "    </tr>\n",
       "    <tr>\n",
       "      <th>7</th>\n",
       "      <td>8.3</td>\n",
       "      <td>5.752622</td>\n",
       "    </tr>\n",
       "    <tr>\n",
       "      <th>8</th>\n",
       "      <td>3.5</td>\n",
       "      <td>5.979045</td>\n",
       "    </tr>\n",
       "    <tr>\n",
       "      <th>9</th>\n",
       "      <td>4.2</td>\n",
       "      <td>5.864097</td>\n",
       "    </tr>\n",
       "    <tr>\n",
       "      <th>10</th>\n",
       "      <td>5.4</td>\n",
       "      <td>5.842848</td>\n",
       "    </tr>\n",
       "    <tr>\n",
       "      <th>11</th>\n",
       "      <td>6.8</td>\n",
       "      <td>5.858009</td>\n",
       "    </tr>\n",
       "    <tr>\n",
       "      <th>12</th>\n",
       "      <td>4.8</td>\n",
       "      <td>5.822086</td>\n",
       "    </tr>\n",
       "    <tr>\n",
       "      <th>13</th>\n",
       "      <td>7.3</td>\n",
       "      <td>5.738085</td>\n",
       "    </tr>\n",
       "    <tr>\n",
       "      <th>14</th>\n",
       "      <td>4.6</td>\n",
       "      <td>5.891058</td>\n",
       "    </tr>\n",
       "    <tr>\n",
       "      <th>15</th>\n",
       "      <td>4.5</td>\n",
       "      <td>5.989244</td>\n",
       "    </tr>\n",
       "    <tr>\n",
       "      <th>16</th>\n",
       "      <td>7.8</td>\n",
       "      <td>6.096949</td>\n",
       "    </tr>\n",
       "    <tr>\n",
       "      <th>17</th>\n",
       "      <td>10.4</td>\n",
       "      <td>6.106099</td>\n",
       "    </tr>\n",
       "    <tr>\n",
       "      <th>18</th>\n",
       "      <td>5.7</td>\n",
       "      <td>5.878222</td>\n",
       "    </tr>\n",
       "    <tr>\n",
       "      <th>19</th>\n",
       "      <td>7.9</td>\n",
       "      <td>5.730043</td>\n",
       "    </tr>\n",
       "    <tr>\n",
       "      <th>20</th>\n",
       "      <td>7.3</td>\n",
       "      <td>5.745255</td>\n",
       "    </tr>\n",
       "    <tr>\n",
       "      <th>21</th>\n",
       "      <td>8.0</td>\n",
       "      <td>5.890249</td>\n",
       "    </tr>\n",
       "    <tr>\n",
       "      <th>22</th>\n",
       "      <td>4.2</td>\n",
       "      <td>5.722955</td>\n",
       "    </tr>\n",
       "    <tr>\n",
       "      <th>23</th>\n",
       "      <td>7.5</td>\n",
       "      <td>5.740511</td>\n",
       "    </tr>\n",
       "    <tr>\n",
       "      <th>24</th>\n",
       "      <td>8.5</td>\n",
       "      <td>6.063165</td>\n",
       "    </tr>\n",
       "    <tr>\n",
       "      <th>25</th>\n",
       "      <td>3.5</td>\n",
       "      <td>5.845460</td>\n",
       "    </tr>\n",
       "    <tr>\n",
       "      <th>26</th>\n",
       "      <td>6.5</td>\n",
       "      <td>6.457780</td>\n",
       "    </tr>\n",
       "    <tr>\n",
       "      <th>27</th>\n",
       "      <td>6.0</td>\n",
       "      <td>5.761650</td>\n",
       "    </tr>\n",
       "    <tr>\n",
       "      <th>28</th>\n",
       "      <td>7.0</td>\n",
       "      <td>6.198008</td>\n",
       "    </tr>\n",
       "    <tr>\n",
       "      <th>29</th>\n",
       "      <td>4.5</td>\n",
       "      <td>6.233910</td>\n",
       "    </tr>\n",
       "  </tbody>\n",
       "</table>\n",
       "</div>"
      ],
      "text/plain": [
       "    Actual  Predicted\n",
       "0      4.1   6.117802\n",
       "1     11.2   5.810065\n",
       "2      5.4   5.887947\n",
       "3      4.3   5.725983\n",
       "4      4.3   6.931888\n",
       "5      7.2   5.734356\n",
       "6      4.0   5.864122\n",
       "7      8.3   5.752622\n",
       "8      3.5   5.979045\n",
       "9      4.2   5.864097\n",
       "10     5.4   5.842848\n",
       "11     6.8   5.858009\n",
       "12     4.8   5.822086\n",
       "13     7.3   5.738085\n",
       "14     4.6   5.891058\n",
       "15     4.5   5.989244\n",
       "16     7.8   6.096949\n",
       "17    10.4   6.106099\n",
       "18     5.7   5.878222\n",
       "19     7.9   5.730043\n",
       "20     7.3   5.745255\n",
       "21     8.0   5.890249\n",
       "22     4.2   5.722955\n",
       "23     7.5   5.740511\n",
       "24     8.5   6.063165\n",
       "25     3.5   5.845460\n",
       "26     6.5   6.457780\n",
       "27     6.0   5.761650\n",
       "28     7.0   6.198008\n",
       "29     4.5   6.233910"
      ]
     },
     "execution_count": 31,
     "metadata": {},
     "output_type": "execute_result"
    }
   ],
   "source": [
    "# Create a dataframe comparing the actual and predicted values of y.\n",
    "\n",
    "data = pd.DataFrame({'Actual': y_test.flatten(), 'Predicted': y_predicted.flatten()})\n",
    "data.head(30)"
   ]
  },
  {
   "cell_type": "markdown",
   "metadata": {},
   "source": [
    "### Direction 11: Check the model performance statistics—MSE and R2 score.: The MSE is low, therefore it is close to the observations. But the r-squared value is extremely low almost zero and doesn't fit to the model."
   ]
  },
  {
   "cell_type": "markdown",
   "metadata": {},
   "source": [
    "### Direction 12: Compare the predicted y values with the actual y values in a dataframe. - The prdedicted  values are close to the actual values"
   ]
  },
  {
   "cell_type": "markdown",
   "metadata": {},
   "source": [
    "##### Compare how the regression fits the training set"
   ]
  },
  {
   "cell_type": "code",
   "execution_count": 32,
   "metadata": {},
   "outputs": [],
   "source": [
    "# Predict.\n",
    "\n",
    "y_predicted_train = regression.predict(X_train) # This is predicting X_train!"
   ]
  },
  {
   "cell_type": "code",
   "execution_count": 33,
   "metadata": {},
   "outputs": [],
   "source": [
    "rmse = mean_squared_error(y_train, y_predicted_train)\n",
    "r2 = r2_score(y_train, y_predicted_train)"
   ]
  },
  {
   "cell_type": "code",
   "execution_count": 34,
   "metadata": {},
   "outputs": [
    {
     "name": "stdout",
     "output_type": "stream",
     "text": [
      "Slope: [[8.48808578e-08]]\n",
      "Mean squared error:  4.846915633647197\n",
      "R2 score:  0.01272797747367782\n"
     ]
    }
   ],
   "source": [
    "print('Slope:' ,regression.coef_)\n",
    "print('Mean squared error: ', rmse)\n",
    "print('R2 score: ', r2)"
   ]
  },
  {
   "cell_type": "code",
   "execution_count": 35,
   "metadata": {
    "scrolled": true
   },
   "outputs": [
    {
     "data": {
      "image/png": "[encoded data removed]",
      "text/plain": [
       "<Figure size 640x480 with 1 Axes>"
      ]
     },
     "metadata": {},
     "output_type": "display_data"
    }
   ],
   "source": [
    "# Visualizing the training set results.\n",
    "\n",
    "plot_test = plt\n",
    "plot_test.scatter(X_train, y_train, color='green', s = 15)\n",
    "plot_test.plot(X_train, y_predicted_train, color='red', linewidth =3)\n",
    "plot_test.title('Labor Force vs % of Unemployed (Train set)')\n",
    "plot_test.xlabel('Labor Force')\n",
    "plot_test.ylabel('% of Unemployed')\n",
    "plot_test.show()"
   ]
  },
  {
   "cell_type": "markdown",
   "metadata": {},
   "source": [
    "### Bonus: performance improvement after removing outliers"
   ]
  },
  {
   "cell_type": "code",
   "execution_count": 36,
   "metadata": {},
   "outputs": [],
   "source": [
    "# Clean the extreme values from the \"Price per Unit\" variable observed during the consistency checks.\n",
    "\n",
    "df_test = df[df['% of Unemployed'] <=15] "
   ]
  },
  {
   "cell_type": "code",
   "execution_count": 37,
   "metadata": {},
   "outputs": [
    {
     "data": {
      "image/png": "[encoded data removed]",
      "text/plain": [
       "<Figure size 640x480 with 1 Axes>"
      ]
     },
     "metadata": {},
     "output_type": "display_data"
    }
   ],
   "source": [
    "# See how the scatterplot looks without outliers.\n",
    "\n",
    "df_test.plot(x = 'Labor Force', y='% of Unemployed', style='o')  \n",
    "plt.title('Labor Force vs % of Unemployed')  \n",
    "plt.xlabel('Labor Force')  \n",
    "plt.ylabel('% of Unemployed')  \n",
    "plt.show()"
   ]
  },
  {
   "cell_type": "code",
   "execution_count": 38,
   "metadata": {},
   "outputs": [],
   "source": [
    "# Reshape again.\n",
    "\n",
    "X_2 = df_test['Labor Force'].values.reshape(-1,1)\n",
    "y_2 = df_test['% of Unemployed'].values.reshape(-1,1)"
   ]
  },
  {
   "cell_type": "code",
   "execution_count": 39,
   "metadata": {
    "scrolled": true
   },
   "outputs": [],
   "source": [
    "X_train_2, X_test_2, y_train_2, y_test_2 = train_test_split(X_2, y_2, test_size=0.3, random_state=0)"
   ]
  },
  {
   "cell_type": "code",
   "execution_count": 40,
   "metadata": {},
   "outputs": [
    {
     "data": {
      "text/plain": [
       "LinearRegression()"
      ]
     },
     "execution_count": 40,
     "metadata": {},
     "output_type": "execute_result"
    }
   ],
   "source": [
    "# Run and fit the regression.\n",
    "\n",
    "regression = LinearRegression()  \n",
    "regression.fit(X_train_2, y_train_2)"
   ]
  },
  {
   "cell_type": "code",
   "execution_count": 41,
   "metadata": {},
   "outputs": [],
   "source": [
    "# Predict.\n",
    "\n",
    "y_predicted_2 = regression.predict(X_test_2)"
   ]
  },
  {
   "cell_type": "code",
   "execution_count": 42,
   "metadata": {},
   "outputs": [],
   "source": [
    "rmse = mean_squared_error(y_test_2, y_predicted_2)\n",
    "r2 = r2_score(y_test_2, y_predicted_2)"
   ]
  },
  {
   "cell_type": "code",
   "execution_count": 43,
   "metadata": {},
   "outputs": [
    {
     "name": "stdout",
     "output_type": "stream",
     "text": [
      "Slope: [[8.5146774e-08]]\n",
      "Mean squared error:  4.5258726533920495\n",
      "R2 score:  0.015760498427171976\n"
     ]
    }
   ],
   "source": [
    "print('Slope:' ,regression.coef_)\n",
    "print('Mean squared error: ', rmse)\n",
    "print('R2 score: ', r2)"
   ]
  },
  {
   "cell_type": "code",
   "execution_count": 44,
   "metadata": {
    "scrolled": true
   },
   "outputs": [
    {
     "data": {
      "image/png": "[encoded data removed]",
      "text/plain": [
       "<Figure size 640x480 with 1 Axes>"
      ]
     },
     "metadata": {},
     "output_type": "display_data"
    }
   ],
   "source": [
    "# Visualizing the test set results.\n",
    "plot_test = plt\n",
    "plot_test.scatter(X_test_2, y_test_2, color='gray', s = 15)\n",
    "plot_test.plot(X_test_2, y_predicted_2, color='red', linewidth =3)\n",
    "plot_test.title('Labor Force vs % of Unemployed (Test set)')\n",
    "plot_test.xlabel('Labor Force')\n",
    "plot_test.ylabel('% of Unemployed')\n",
    "plot_test.show()"
   ]
  },
  {
   "cell_type": "code",
   "execution_count": 45,
   "metadata": {
    "scrolled": true
   },
   "outputs": [
    {
     "data": {
      "text/html": [
       "<div>\n",
       "<style scoped>\n",
       "    .dataframe tbody tr th:only-of-type {\n",
       "        vertical-align: middle;\n",
       "    }\n",
       "\n",
       "    .dataframe tbody tr th {\n",
       "        vertical-align: top;\n",
       "    }\n",
       "\n",
       "    .dataframe thead th {\n",
       "        text-align: right;\n",
       "    }\n",
       "</style>\n",
       "<table border=\"1\" class=\"dataframe\">\n",
       "  <thead>\n",
       "    <tr style=\"text-align: right;\">\n",
       "      <th></th>\n",
       "      <th>Actual</th>\n",
       "      <th>Predicted</th>\n",
       "    </tr>\n",
       "  </thead>\n",
       "  <tbody>\n",
       "    <tr>\n",
       "      <th>0</th>\n",
       "      <td>11.0</td>\n",
       "      <td>6.140434</td>\n",
       "    </tr>\n",
       "    <tr>\n",
       "      <th>1</th>\n",
       "      <td>3.3</td>\n",
       "      <td>5.941233</td>\n",
       "    </tr>\n",
       "    <tr>\n",
       "      <th>2</th>\n",
       "      <td>3.8</td>\n",
       "      <td>5.777870</td>\n",
       "    </tr>\n",
       "    <tr>\n",
       "      <th>3</th>\n",
       "      <td>4.1</td>\n",
       "      <td>5.765656</td>\n",
       "    </tr>\n",
       "    <tr>\n",
       "      <th>4</th>\n",
       "      <td>6.5</td>\n",
       "      <td>5.845223</td>\n",
       "    </tr>\n",
       "    <tr>\n",
       "      <th>5</th>\n",
       "      <td>4.9</td>\n",
       "      <td>6.474143</td>\n",
       "    </tr>\n",
       "    <tr>\n",
       "      <th>6</th>\n",
       "      <td>11.6</td>\n",
       "      <td>5.754895</td>\n",
       "    </tr>\n",
       "    <tr>\n",
       "      <th>7</th>\n",
       "      <td>7.8</td>\n",
       "      <td>5.822276</td>\n",
       "    </tr>\n",
       "    <tr>\n",
       "      <th>8</th>\n",
       "      <td>4.8</td>\n",
       "      <td>6.431381</td>\n",
       "    </tr>\n",
       "    <tr>\n",
       "      <th>9</th>\n",
       "      <td>3.5</td>\n",
       "      <td>5.705300</td>\n",
       "    </tr>\n",
       "    <tr>\n",
       "      <th>10</th>\n",
       "      <td>4.9</td>\n",
       "      <td>5.807736</td>\n",
       "    </tr>\n",
       "    <tr>\n",
       "      <th>11</th>\n",
       "      <td>11.6</td>\n",
       "      <td>5.825240</td>\n",
       "    </tr>\n",
       "    <tr>\n",
       "      <th>12</th>\n",
       "      <td>4.6</td>\n",
       "      <td>5.723153</td>\n",
       "    </tr>\n",
       "    <tr>\n",
       "      <th>13</th>\n",
       "      <td>5.4</td>\n",
       "      <td>5.889953</td>\n",
       "    </tr>\n",
       "    <tr>\n",
       "      <th>14</th>\n",
       "      <td>2.3</td>\n",
       "      <td>5.715577</td>\n",
       "    </tr>\n",
       "    <tr>\n",
       "      <th>15</th>\n",
       "      <td>5.6</td>\n",
       "      <td>5.783393</td>\n",
       "    </tr>\n",
       "    <tr>\n",
       "      <th>16</th>\n",
       "      <td>7.7</td>\n",
       "      <td>5.883042</td>\n",
       "    </tr>\n",
       "    <tr>\n",
       "      <th>17</th>\n",
       "      <td>3.9</td>\n",
       "      <td>5.681874</td>\n",
       "    </tr>\n",
       "    <tr>\n",
       "      <th>18</th>\n",
       "      <td>5.6</td>\n",
       "      <td>6.068525</td>\n",
       "    </tr>\n",
       "    <tr>\n",
       "      <th>19</th>\n",
       "      <td>4.8</td>\n",
       "      <td>6.802283</td>\n",
       "    </tr>\n",
       "    <tr>\n",
       "      <th>20</th>\n",
       "      <td>9.4</td>\n",
       "      <td>6.055915</td>\n",
       "    </tr>\n",
       "    <tr>\n",
       "      <th>21</th>\n",
       "      <td>6.4</td>\n",
       "      <td>5.804825</td>\n",
       "    </tr>\n",
       "    <tr>\n",
       "      <th>22</th>\n",
       "      <td>2.4</td>\n",
       "      <td>5.773496</td>\n",
       "    </tr>\n",
       "    <tr>\n",
       "      <th>23</th>\n",
       "      <td>4.0</td>\n",
       "      <td>6.022153</td>\n",
       "    </tr>\n",
       "    <tr>\n",
       "      <th>24</th>\n",
       "      <td>6.8</td>\n",
       "      <td>5.678597</td>\n",
       "    </tr>\n",
       "    <tr>\n",
       "      <th>25</th>\n",
       "      <td>6.0</td>\n",
       "      <td>5.883881</td>\n",
       "    </tr>\n",
       "    <tr>\n",
       "      <th>26</th>\n",
       "      <td>6.5</td>\n",
       "      <td>6.741899</td>\n",
       "    </tr>\n",
       "    <tr>\n",
       "      <th>27</th>\n",
       "      <td>6.2</td>\n",
       "      <td>5.927077</td>\n",
       "    </tr>\n",
       "    <tr>\n",
       "      <th>28</th>\n",
       "      <td>6.4</td>\n",
       "      <td>6.160514</td>\n",
       "    </tr>\n",
       "    <tr>\n",
       "      <th>29</th>\n",
       "      <td>6.9</td>\n",
       "      <td>5.913218</td>\n",
       "    </tr>\n",
       "  </tbody>\n",
       "</table>\n",
       "</div>"
      ],
      "text/plain": [
       "    Actual  Predicted\n",
       "0     11.0   6.140434\n",
       "1      3.3   5.941233\n",
       "2      3.8   5.777870\n",
       "3      4.1   5.765656\n",
       "4      6.5   5.845223\n",
       "5      4.9   6.474143\n",
       "6     11.6   5.754895\n",
       "7      7.8   5.822276\n",
       "8      4.8   6.431381\n",
       "9      3.5   5.705300\n",
       "10     4.9   5.807736\n",
       "11    11.6   5.825240\n",
       "12     4.6   5.723153\n",
       "13     5.4   5.889953\n",
       "14     2.3   5.715577\n",
       "15     5.6   5.783393\n",
       "16     7.7   5.883042\n",
       "17     3.9   5.681874\n",
       "18     5.6   6.068525\n",
       "19     4.8   6.802283\n",
       "20     9.4   6.055915\n",
       "21     6.4   5.804825\n",
       "22     2.4   5.773496\n",
       "23     4.0   6.022153\n",
       "24     6.8   5.678597\n",
       "25     6.0   5.883881\n",
       "26     6.5   6.741899\n",
       "27     6.2   5.927077\n",
       "28     6.4   6.160514\n",
       "29     6.9   5.913218"
      ]
     },
     "execution_count": 45,
     "metadata": {},
     "output_type": "execute_result"
    }
   ],
   "source": [
    "data = pd.DataFrame({'Actual': y_test_2.flatten(), 'Predicted': y_predicted_2.flatten()})\n",
    "data.head(30)"
   ]
  },
  {
   "cell_type": "markdown",
   "metadata": {},
   "source": [
    "### Direction 13: Include your thoughts on how well the model performed on the test set in a markdown cell. Include any reflections you have on the impact of possible data bias. - The model performed very well. Influencing the data by deleting outliers in the training had not big effect on the test model."
   ]
  },
  {
   "cell_type": "code",
   "execution_count": null,
   "metadata": {},
   "outputs": [],
   "source": []
  }
 ],
 "metadata": {
  "kernelspec": {
   "display_name": "Python 3 (ipykernel)",
   "language": "python",
   "name": "python3"
  },
  "language_info": {
   "codemirror_mode": {
    "name": "ipython",
    "version": 3
   },
   "file_extension": ".py",
   "mimetype": "text/x-python",
   "name": "python",
   "nbconvert_exporter": "python",
   "pygments_lexer": "ipython3",
   "version": "3.9.13"
  }
 },
 "nbformat": 4,
 "nbformat_minor": 4
}
